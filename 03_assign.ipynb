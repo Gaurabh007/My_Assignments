{
 "cells": [
  {
   "attachments": {},
   "cell_type": "markdown",
   "metadata": {},
   "source": [
    "#### 1.)\n",
    "* `def` keyword is used to create a function"
   ]
  },
  {
   "cell_type": "code",
   "execution_count": 3,
   "metadata": {},
   "outputs": [
    {
     "name": "stdout",
     "output_type": "stream",
     "text": [
      "Odd number within the range (1-25): [1, 3, 5, 7, 9, 11, 13, 15, 17, 19, 21, 23, 25]\n"
     ]
    }
   ],
   "source": [
    "\n",
    "def odd():\n",
    "    odd_lst = []\n",
    "    for i in range(1,26):\n",
    "        if i % 2 != 0:\n",
    "            odd_lst.append(i)\n",
    "    return odd_lst\n",
    "\n",
    "print(f\"Odd number within the range (1-25): {odd()}\")\n"
   ]
  },
  {
   "attachments": {},
   "cell_type": "markdown",
   "metadata": {},
   "source": [
    "#### 2.) *args:\n",
    "* When we are unaware of the arguments we use `*args`.\n",
    "* It ensures that we can pass as many arguments we want.\n",
    "* `*` indicates more than 1 argument.\n",
    "\n",
    "#### **kwargs:\n",
    "* `**kwargs` indicates that the input should be in key-value pair.\n",
    "* When we want to represent the data in key-value pair we use `**`.\n",
    "\n",
    "Example of each is given below:"
   ]
  },
  {
   "cell_type": "code",
   "execution_count": 5,
   "metadata": {},
   "outputs": [
    {
     "data": {
      "text/plain": [
       "\"Jack likes to read: ('Maths', 'Computer', 'English', 'Geography')\""
      ]
     },
     "execution_count": 5,
     "metadata": {},
     "output_type": "execute_result"
    }
   ],
   "source": [
    "# *args\n",
    "\n",
    "def test(*args):\n",
    "    return (f\"Jack likes to read: {args}\")\n",
    "\n",
    "test('Maths','Computer','English','Geography')"
   ]
  },
  {
   "cell_type": "code",
   "execution_count": 8,
   "metadata": {},
   "outputs": [
    {
     "data": {
      "text/plain": [
       "{'a': 15, 'b': 23, 'l': [15, 9, 'python'], 't': ('ML', 95.5, True, None)}"
      ]
     },
     "execution_count": 8,
     "metadata": {},
     "output_type": "execute_result"
    }
   ],
   "source": [
    "# **kwargs\n",
    "\n",
    "def test1(**k):\n",
    "    return (k)\n",
    "\n",
    "test1(a=15,b=23,l=[15,9,'python'],t=('ML',95.5,True,None))"
   ]
  },
  {
   "attachments": {},
   "cell_type": "markdown",
   "metadata": {},
   "source": [
    "#### 3.) Iterators in Python\n",
    "* Iterators are object in python which is used to iterate over lists, sets, tuples.\n",
    "* It fetches the elements one-by-one from the iterable objects.\n",
    "\n",
    "#### `__iter()__` Method used to initialise the iterator object\n",
    "#### `__next()__` Method used for iteration.\n"
   ]
  },
  {
   "cell_type": "code",
   "execution_count": 33,
   "metadata": {},
   "outputs": [
    {
     "name": "stdout",
     "output_type": "stream",
     "text": [
      "2\n",
      "4\n",
      "6\n",
      "8\n",
      "10\n"
     ]
    }
   ],
   "source": [
    "list = [2, 4, 6, 8, 10, 12, 14, 16, 18, 20]\n",
    "itr = iter(list)\n",
    "i = 1\n",
    "while i <= 5:\n",
    "    print(next(itr))\n",
    "    i += 1\n"
   ]
  },
  {
   "attachments": {},
   "cell_type": "markdown",
   "metadata": {},
   "source": [
    "#### 4.) Generator Function:\n",
    "* A Generator is a function which returns a iterator object instead of returing a value.\n",
    "* `yield` keyword is used instead of return statement. It returns a value and passes the execution to next iteration. "
   ]
  },
  {
   "cell_type": "code",
   "execution_count": 32,
   "metadata": {},
   "outputs": [
    {
     "name": "stdout",
     "output_type": "stream",
     "text": [
      "1\n",
      "2\n",
      "3\n",
      "4\n",
      "5\n",
      "6\n",
      "7\n",
      "8\n",
      "9\n",
      "10\n"
     ]
    }
   ],
   "source": [
    "def gen(n):\n",
    "    while n <= 10:\n",
    "        yield n\n",
    "        n += 1\n",
    "\n",
    "g = gen(1)\n",
    "for i in g:\n",
    "    print(i)"
   ]
  },
  {
   "cell_type": "code",
   "execution_count": 31,
   "metadata": {},
   "outputs": [
    {
     "name": "stdout",
     "output_type": "stream",
     "text": [
      "Prime numbers less than 1000: \n",
      "1,2,3,5,7,11,13,17,19,23,29,31,37,41,43,47,53,59,61,67,71,73,79,83,89,97,101,103,107,109,113,127,131,137,139,149,151,157,163,167,173,179,181,191,193,197,199,211,223,227,229,233,239,241,251,257,263,269,271,277,281,283,293,307,311,313,317,331,337,347,349,353,359,367,373,379,383,389,397,401,409,419,421,431,433,439,443,449,457,461,463,467,479,487,491,499,503,509,521,523,541,547,557,563,569,571,577,587,593,599,601,607,613,617,619,631,641,643,647,653,659,661,673,677,683,691,701,709,719,727,733,739,743,751,757,761,769,773,787,797,809,811,821,823,827,829,839,853,857,859,863,877,881,883,887,907,911,919,929,937,941,947,953,967,971,977,983,991,997,\n",
      "\n",
      "The first 20 Prime Numbers: \n",
      "1 2 3 5 7 11 13 17 19 23 29 31 37 41 43 47 53 59 61 67 "
     ]
    }
   ],
   "source": [
    "# 5)\n",
    "def gen2(n):\n",
    "    while n <= 1000:\n",
    "        yield n\n",
    "        n += 1\n",
    "\n",
    "rg = gen2(1) \n",
    "print(\"Prime numbers less than 1000: \")\n",
    "primes = []\n",
    "for i in rg:\n",
    "    flag = 0                #assuming the number is prime\n",
    "    for j in range(2,i):\n",
    "        if (i%j == 0):\n",
    "            flag = 1        #it becomes 1 for non-prime number\n",
    "    if flag == 0:\n",
    "        primes.append(i)\n",
    "        print(i,end=\",\")\n",
    "\n",
    "print(\"\\n\\nThe first 20 Prime Numbers: \")\n",
    "it = iter(primes)\n",
    "i=1\n",
    "while i<=20:\n",
    "    print(next(it),end=\" \")\n",
    "    i+=1\n"
   ]
  }
 ],
 "metadata": {
  "kernelspec": {
   "display_name": "Python 3",
   "language": "python",
   "name": "python3"
  },
  "language_info": {
   "codemirror_mode": {
    "name": "ipython",
    "version": 3
   },
   "file_extension": ".py",
   "mimetype": "text/x-python",
   "name": "python",
   "nbconvert_exporter": "python",
   "pygments_lexer": "ipython3",
   "version": "3.11.2"
  },
  "orig_nbformat": 4,
  "vscode": {
   "interpreter": {
    "hash": "bf2765f521931e2f19f12976575e4735ff3b02b38699a1c8a104e77ac4d978bc"
   }
  }
 },
 "nbformat": 4,
 "nbformat_minor": 2
}
