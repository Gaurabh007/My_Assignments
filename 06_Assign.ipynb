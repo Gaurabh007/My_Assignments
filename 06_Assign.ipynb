{
 "cells": [
  {
   "attachments": {},
   "cell_type": "markdown",
   "metadata": {},
   "source": [
    "Q1. Create a function which will take a list as an argument and return the product of all the numbers\n",
    "after creating a flat list.\n",
    "Use the below-given list as an argument for your function.\n",
    "list1 = [1,2,3,4, [44,55,66, True], False, (34,56,78,89,34), {1,2,3,3,2,1}, {1:34, \"key2\": [55, 67, 78, 89], 4: (45,22, 61, 34)}, [56, 'data science'], 'Machine Learning']\n",
    "\n",
    "Note: you must extract numeric keys and values of the dictionary also."
   ]
  },
  {
   "cell_type": "code",
   "execution_count": 65,
   "metadata": {},
   "outputs": [
    {
     "name": "stdout",
     "output_type": "stream",
     "text": [
      "Product of the given list: 4134711838987085478833841242112000\n"
     ]
    }
   ],
   "source": [
    "from functools import  reduce\n",
    "\n",
    "def product(lst):\n",
    "    num_lst = []\n",
    "    for i in list1:\n",
    "        if type(i) == list or type(i) == set or type(i) == tuple:\n",
    "            for j in i:\n",
    "                if type(j) == int:\n",
    "                    num_lst.append(j)\n",
    "        elif type(i) == dict:\n",
    "            for a in i.items():\n",
    "                if type(a) == tuple:\n",
    "                    for b in a:\n",
    "                        if type(b) == int:\n",
    "                            num_lst.append(b)\n",
    "                        if type(b) == list or type(b) == tuple:\n",
    "                            for c in b:\n",
    "                                if type(c) == int:\n",
    "                                    num_lst.append(c)\n",
    "        elif type(i) == int:\n",
    "            num_lst.append(i)\n",
    "    \n",
    "    print(f\"Product of the given list: {reduce(lambda x,y : x*y , num_lst)}\")\n",
    "\n",
    "list1 = [1, 2, 3, 4, [44, 55, 66, True], False, (34, 56, 78, 89, 34), {1, 2, 3, 3, 2, 1}, {1: 34, \"key2\": [55, 67, 78, 89], 4: (45, 22, 61, 34)}, [56, 'data science'], 'Machine Learning']\n",
    "product(list1)\n"
   ]
  },
  {
   "attachments": {},
   "cell_type": "markdown",
   "metadata": {},
   "source": [
    "Q2. Write a python program for encrypting a message sent to you by your friend. The logic of encryption should be such that, for a the output should be z. For b, the output should be y. For c, the output should be x respectively. Also, the whitespace should be replaced with a dollar sign. Keep the punctuation marks unchanged.\n",
    "Input Sentence: I want to become a Data Scientist.\n",
    "Encrypt the above input sentence using the program you just created.\n",
    "Note: Convert the given input sentence into lowercase before encrypting. The final output should be\n",
    "lowercase."
   ]
  },
  {
   "cell_type": "code",
   "execution_count": 1,
   "metadata": {},
   "outputs": [
    {
     "name": "stdout",
     "output_type": "stream",
     "text": [
      "Encrypted Message: h$vzms$sn$adbnld$z$czsz$rbhdmshrs.\n"
     ]
    }
   ],
   "source": [
    "def encrypt_message(message):\n",
    "    str = \"\"\n",
    "    for char in message.lower():\n",
    "        if char.isalpha():\n",
    "            str += chr(ord('a') + (ord(char) - ord('a') + 25) % 26)\n",
    "        elif char == \" \":\n",
    "            str += \"$\"\n",
    "        else:\n",
    "            str += char\n",
    "    return str\n",
    "\n",
    "message = \"I want to become a Data Scientist.\"\n",
    "final_output = encrypt_message(message)\n",
    "print(\"Encrypted Message:\", final_output)"
   ]
  }
 ],
 "metadata": {
  "kernelspec": {
   "display_name": "Python 3",
   "language": "python",
   "name": "python3"
  },
  "language_info": {
   "codemirror_mode": {
    "name": "ipython",
    "version": 3
   },
   "file_extension": ".py",
   "mimetype": "text/x-python",
   "name": "python",
   "nbconvert_exporter": "python",
   "pygments_lexer": "ipython3",
   "version": "3.11.2"
  },
  "orig_nbformat": 4,
  "vscode": {
   "interpreter": {
    "hash": "bf2765f521931e2f19f12976575e4735ff3b02b38699a1c8a104e77ac4d978bc"
   }
  }
 },
 "nbformat": 4,
 "nbformat_minor": 2
}
