{
 "cells": [
  {
   "attachments": {},
   "cell_type": "markdown",
   "metadata": {},
   "source": [
    "Q1. You are writing code for a company. The requirement of the company is that you create a python\n",
    "function that will check whether the password entered by the user is correct or not. The function should take the password as input and return the string “Valid Password” if the entered password follows the below-given password guidelines else it should return “Invalid Password”.\n",
    "Note:\n",
    "1. The Password should contain at least two uppercase letters and at least two lowercase letters.\n",
    "2. The Password should contain at least a number and three special characters.\n",
    "3. The length of the password should be 10 characters long.\n"
   ]
  },
  {
   "cell_type": "code",
   "execution_count": 26,
   "metadata": {},
   "outputs": [
    {
     "data": {
      "text/plain": [
       "'Valid Passowrd'"
      ]
     },
     "execution_count": 26,
     "metadata": {},
     "output_type": "execute_result"
    }
   ],
   "source": [
    "def check(key):\n",
    "    lc = 0\n",
    "    uc = 0\n",
    "    n = 0\n",
    "    sc = 0\n",
    "    for i in key:\n",
    "        if i.isupper() is True:\n",
    "            uc += 1\n",
    "        if i.islower() is True:\n",
    "            lc += 1\n",
    "        if i.isdigit() == True:\n",
    "            n += 1\n",
    "        if ('!' in i) or ('@' in i) or ('#' in i) or ('$' in i) or ('%' in i) or ('&' in i):\n",
    "            sc += 1\n",
    "\n",
    "    if len(key) > 10 and lc >= 2 and uc >= 2 and n >= 1 and sc > 3:\n",
    "        return 'Valid Passowrd'\n",
    "    else:\n",
    "        return 'Invalid Password'\n",
    "\n",
    "password = input(\"Enter your password: \")\n",
    "check(password)\n"
   ]
  },
  {
   "attachments": {},
   "cell_type": "markdown",
   "metadata": {},
   "source": [
    "Q2. Solve the below-given questions using at least one of the following:\n",
    "1. Lambda function\n",
    "2. Filter function\n",
    "3. Zap function\n",
    "4. List Comprehension\n",
    "* Check if the string starts with a particular letter\n",
    "* Check if the string is numeric\n",
    "* Sort a list of tuples having fruit names and their quantity. [(\"mango\",99),(\"orange\",80), (\"grapes\", 1000)]\n",
    "* Find the squares of numbers from 1 to 10\n",
    "* Find the cube root of numbers from 1 to 10\n",
    "* Check if a given number is even\n",
    "* Filter odd numbers from the given list.\n",
    "[1,2,3,4,5,6,7,8,9,10]\n",
    "* Sort a list of integers into positive and negative integers lists.\n",
    "[1,2,3,4,5,6,-1,-2,-3,-4,-5,0]"
   ]
  }
 ],
 "metadata": {
  "kernelspec": {
   "display_name": "Python 3",
   "language": "python",
   "name": "python3"
  },
  "language_info": {
   "codemirror_mode": {
    "name": "ipython",
    "version": 3
   },
   "file_extension": ".py",
   "mimetype": "text/x-python",
   "name": "python",
   "nbconvert_exporter": "python",
   "pygments_lexer": "ipython3",
   "version": "3.11.2"
  },
  "orig_nbformat": 4,
  "vscode": {
   "interpreter": {
    "hash": "bf2765f521931e2f19f12976575e4735ff3b02b38699a1c8a104e77ac4d978bc"
   }
  }
 },
 "nbformat": 4,
 "nbformat_minor": 2
}
