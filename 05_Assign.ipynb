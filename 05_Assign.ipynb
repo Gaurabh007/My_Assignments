{
 "cells": [
  {
   "attachments": {},
   "cell_type": "markdown",
   "metadata": {},
   "source": [
    "Q1. Explain Class and Object with respect to Object-Oriented Programming. Give a suitable example.\n",
    "Ans.\n",
    "\n",
    "1. Class - Class is the blueprint of a real world object. (eg Car,Human,..)\n",
    "* A Class can have multiple objects.\n",
    "* `class` keyword is used to define a Class. \n",
    "* Syntax:\n",
    ">                                  class class-name:\n",
    ">                                       <statement-1>\n",
    ">                                       <statement-2>\n",
    ">                                       .\n",
    ">                                       .   \n",
    ">                                       <statement-N>\n",
    "\n",
    "* Variable defined within a class is *class variable* and function defined is called *class methods*. They both together are called *class members*.\n",
    "\n",
    "2. Objects - Objects are instance or variable of the class.\n",
    "* Once the class is created the next job is to create objects of that class.\n",
    "* These are every entity which are manufactured through the class.\n",
    "* The object are created to access the class members using the *dot operator `(.)`*.\n",
    "* *Syntax for creating an object:* \n",
    ">                                   object_name = class_name()\n",
    "* *Syntax for accessing the method of the class:* \n",
    ">                                 object_name.class_member_name"
   ]
  },
  {
   "cell_type": "code",
   "execution_count": null,
   "metadata": {},
   "outputs": [],
   "source": [
    "class Person:                                       #Class\n",
    "    def __init__(self,name,occupation):             #Constructor\n",
    "        self.name = name\n",
    "        self.occupation = occupation\n",
    "    \n",
    "    def display(self):\n",
    "        print(f\"{self.name} is working as {self.occupation} in our company.\")\n",
    "\n",
    "ob1 = Person('Gaurabh','Data Scientist')            #Object Creation with parameter\n",
    "ob2 = Person('Harry','Software Developer')\n",
    "ob1.display()                                       # Acessing the Class Methods\n",
    "ob2.display()\n",
    "\n",
    "ob2.name                                            # Accessing Class Variable\n"
   ]
  },
  {
   "attachments": {},
   "cell_type": "markdown",
   "metadata": {},
   "source": [
    "Q2. Name the four pillars of OOPs.\n",
    "\n",
    "1. Abstraction : It refers to the process of defining the data and function in such a way that only essential details are provided to the outside world instead of its implementation.\n",
    "\n",
    "2. Encapsulation : It organizes the data and method in structured manner so that it prevents the data access of any method which not defined in the class. This ensures the data integrity of the data.\n",
    "\n",
    "3. Polymorphism : It means having many forms, in other words same function name but different data types.\n",
    "\n",
    "4. Inheritance : It refers to the process of inheriting the characteristics and properties of a Parent Class to Child Class"
   ]
  },
  {
   "attachments": {},
   "cell_type": "markdown",
   "metadata": {},
   "source": [
    "Q3. Explain why the __init__() function is used. Give a suitable example.\n",
    "Ans.\n",
    "* __init__() function is a inbuilt function in Python. \n",
    "* It is called when an object is created.\n",
    "* It initilizes all the attributes when a object of that class is created called Constructor."
   ]
  },
  {
   "cell_type": "code",
   "execution_count": 14,
   "metadata": {},
   "outputs": [],
   "source": [
    "class Car:\n",
    "    def __init__(self, name, manufactured_date,gear_id):\n",
    "        self.name = name\n",
    "        self.manufactured_date = manufactured_date\n",
    "        self.gear_id = gear_id\n",
    "    \n",
    "    def display(self):\n",
    "        print(f\"Name: {self.name}  Manufactured Date: {self.manufactured_date} Gear Id: {self.gear_id}\")"
   ]
  },
  {
   "cell_type": "code",
   "execution_count": 15,
   "metadata": {},
   "outputs": [
    {
     "name": "stdout",
     "output_type": "stream",
     "text": [
      "Name: Range Rover  Manufactured Date: 28/2/2023 Gear Id: 645132\n"
     ]
    }
   ],
   "source": [
    "car1 = Car(\"Range Rover\",'28/2/2023',645132)\n",
    "\n",
    "car1.display()"
   ]
  },
  {
   "attachments": {},
   "cell_type": "markdown",
   "metadata": {},
   "source": [
    "##### Q4. Why self is used in OOPs?\n",
    "Ans. In Python `self` is used as an reference or pointer. When we are declaring a function inside a class we should give a pointer or reference so that the class will be able to bind that particular method."
   ]
  },
  {
   "attachments": {},
   "cell_type": "markdown",
   "metadata": {},
   "source": [
    "#### Q5. What is inheritance? Give an example for each type of inheritance.\n",
    "Ans. Inheritance allow New(Child) Class to inherit the properties and method from its Parent Class.\n",
    "It helps in Code Reusability.\n",
    "Types of Inheritance:\n",
    "* Single Inheritance - It enables a supclass to be inherited with a single superclass.\n",
    "* Multiple Inheritance - A child class can be inherited with more than one parent class.\n",
    "* Multilevel Inheritance - A base class and a derived class is further inherited to a new derived class."
   ]
  }
 ],
 "metadata": {
  "kernelspec": {
   "display_name": "Python 3",
   "language": "python",
   "name": "python3"
  },
  "language_info": {
   "codemirror_mode": {
    "name": "ipython",
    "version": 3
   },
   "file_extension": ".py",
   "mimetype": "text/x-python",
   "name": "python",
   "nbconvert_exporter": "python",
   "pygments_lexer": "ipython3",
   "version": "3.11.2"
  },
  "orig_nbformat": 4,
  "vscode": {
   "interpreter": {
    "hash": "bf2765f521931e2f19f12976575e4735ff3b02b38699a1c8a104e77ac4d978bc"
   }
  }
 },
 "nbformat": 4,
 "nbformat_minor": 2
}
