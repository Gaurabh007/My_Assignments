{
 "cells": [
  {
   "attachments": {},
   "cell_type": "markdown",
   "metadata": {},
   "source": [
    "##### 1. Write a program to accept percentage from the user and display the grade according to the following"
   ]
  },
  {
   "cell_type": "code",
   "execution_count": null,
   "metadata": {},
   "outputs": [],
   "source": [
    "p = int(input(\"Enter Your Percentage: \"))\n",
    "\n",
    "print(f\"Your Percentage: {p}%\")\n",
    "if (p > 90):\n",
    "    print(\"Your Grade is: A\")\n",
    "elif p > 80 and p <= 90:\n",
    "    print(\"Your Grade is: B\")\n",
    "elif p >= 60 and p <= 80:\n",
    "    print(\"Your Grade is: C\")\n",
    "else:\n",
    "    print(\"Your Grade is: D\")\n"
   ]
  },
  {
   "attachments": {},
   "cell_type": "markdown",
   "metadata": {},
   "source": [
    "##### 2. Write a program to accept the cost price of a bike and display the road tax to be paid according to the following criteria:"
   ]
  },
  {
   "cell_type": "code",
   "execution_count": null,
   "metadata": {},
   "outputs": [],
   "source": [
    "c = int(input(\"Enter Your Cost Price: \"))\n",
    "\n",
    "print(f\"Your Cost Price: INR {c}\")\n",
    "if (c > 100000):\n",
    "    print(f\"Your Tax percent is: 15%\\nYour total tax is: {(c*15)/100}\")\n",
    "elif c > 50000 and c <= 100000:\n",
    "    print(f\"Your Tax percent is: 10%\\nYour total tax is: {(c*10)/100}\")\n",
    "else:\n",
    "    print(f\"Your Tax percent is: 5%\\nYour total tax is: {(c*5)/100}\")\n"
   ]
  },
  {
   "attachments": {},
   "cell_type": "markdown",
   "metadata": {},
   "source": [
    "##### 3. Accept any city from the user and display monuments of that city. "
   ]
  },
  {
   "cell_type": "code",
   "execution_count": null,
   "metadata": {},
   "outputs": [],
   "source": [
    "ch = int(input(\n",
    "    \"Choose your City to see the Monument of that city:\\n\\t1.Delhi\\n\\t2.Agra\\n\\tJaipur\"))\n",
    "while (ch != 4):\n",
    "    if (ch == 1):\n",
    "        print(\"Your City: Delhi\")\n",
    "        print(\"Monument: RedFort\")\n",
    "        break\n",
    "\n",
    "    elif (ch == 2):\n",
    "        print(\"Your City: Agra\")\n",
    "        print(\"Monument: Taj Mahal\")\n",
    "        break\n",
    "\n",
    "    elif (ch == 3):\n",
    "        print(\"Your City: Jaipur\")\n",
    "        print(\"Monument: Jal Mahal\")\n",
    "        break\n",
    "    else:\n",
    "        print(\"Wrong Choice, Try Again\")\n",
    "        break\n"
   ]
  },
  {
   "attachments": {},
   "cell_type": "markdown",
   "metadata": {},
   "source": [
    "#### 4. Check how many times a given number can be divided by 3 before it is less than or equal to 10. "
   ]
  },
  {
   "cell_type": "code",
   "execution_count": null,
   "metadata": {},
   "outputs": [],
   "source": [
    "count = 0\n",
    "for i in range(1, 11):\n",
    "    if i % 3 == 0:\n",
    "        count += 1\n",
    "\n",
    "print(\"The number of times a given number is Divisible by 3 is: \", count)\n"
   ]
  },
  {
   "attachments": {},
   "cell_type": "markdown",
   "metadata": {},
   "source": [
    "#### 5. While Loop is used when we want to execute a block of code untill an unless the condition becomes false. As soon as the condition becomes false it comes out of the loop and execute the remaining code. \n",
    "##### Below is an example of while loop:-"
   ]
  },
  {
   "cell_type": "code",
   "execution_count": null,
   "metadata": {},
   "outputs": [],
   "source": [
    "i = 0\n",
    "while i <= 10:\n",
    "    print(i)\n",
    "    i += 1\n"
   ]
  },
  {
   "attachments": {},
   "cell_type": "markdown",
   "metadata": {},
   "source": [
    "##### 6. Printing pattern through nested while loop"
   ]
  },
  {
   "cell_type": "code",
   "execution_count": 36,
   "metadata": {},
   "outputs": [
    {
     "name": "stdout",
     "output_type": "stream",
     "text": [
      "1 2 3 4 5 6 7 8 9 10 \n",
      "\n",
      "2 4 6 8 10 12 14 16 18 20 \n",
      "\n",
      "3 6 9 12 15 18 21 24 27 30 \n",
      "\n"
     ]
    }
   ],
   "source": [
    "\n",
    "i = 1\n",
    "while i <= 3:\n",
    "    j = 1\n",
    "    while j <= 10:\n",
    "        print(i*j, end=\" \")\n",
    "        j += 1\n",
    "    print(\"\\n\")\n",
    "    i += 1\n"
   ]
  },
  {
   "attachments": {},
   "cell_type": "markdown",
   "metadata": {},
   "source": [
    "##### 7. Reverse a while loop to display numbers from 10 to 1. "
   ]
  },
  {
   "cell_type": "code",
   "execution_count": 38,
   "metadata": {},
   "outputs": [
    {
     "name": "stdout",
     "output_type": "stream",
     "text": [
      "10\n",
      "9\n",
      "8\n",
      "7\n",
      "6\n",
      "5\n",
      "4\n",
      "3\n",
      "2\n",
      "1\n"
     ]
    }
   ],
   "source": [
    "i = 10\n",
    "while i != 0:\n",
    "    print(i)\n",
    "    i -= 1\n"
   ]
  },
  {
   "attachments": {},
   "cell_type": "markdown",
   "metadata": {},
   "source": [
    "##### 8. Reverse a while loop to display numbers from 10 to 1 "
   ]
  },
  {
   "cell_type": "code",
   "execution_count": 39,
   "metadata": {},
   "outputs": [
    {
     "name": "stdout",
     "output_type": "stream",
     "text": [
      "1\n",
      "2\n",
      "3\n",
      "4\n",
      "5\n",
      "6\n",
      "7\n",
      "8\n",
      "9\n"
     ]
    }
   ],
   "source": [
    "i = 1\n",
    "while i != 10:\n",
    "    print(i)\n",
    "    i += 1\n"
   ]
  }
 ],
 "metadata": {
  "kernelspec": {
   "display_name": "Python 3",
   "language": "python",
   "name": "python3"
  },
  "language_info": {
   "codemirror_mode": {
    "name": "ipython",
    "version": 3
   },
   "file_extension": ".py",
   "mimetype": "text/x-python",
   "name": "python",
   "nbconvert_exporter": "python",
   "pygments_lexer": "ipython3",
   "version": "3.10.6"
  },
  "orig_nbformat": 4,
  "vscode": {
   "interpreter": {
    "hash": "a0024f5569284e2b511d8cb12062d37de04fed5a3682d14c56150c8974ce8587"
   }
  }
 },
 "nbformat": 4,
 "nbformat_minor": 2
}
