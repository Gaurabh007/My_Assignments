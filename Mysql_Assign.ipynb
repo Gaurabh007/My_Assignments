{
 "cells": [
  {
   "attachments": {},
   "cell_type": "markdown",
   "metadata": {},
   "source": [
    "Q1. What is a database? Differentiate between SQL and NoSQL databases.\n",
    "\n",
    "Database - Database are set of programs to create, modify and maintain the data. It stores the data for an application in a form of rows and columns.\n",
    "\n",
    "* SQL(Structured Query Language) - It works with a structured data. It create a table to store the data. Eg:-MySQL, Oracle, DB2\n",
    "* NoSQL (Not only Structured Query Language)- It works with a unstructured data . It stores a text file or images, videos. Eg:- MongoDB, Neo4j"
   ]
  },
  {
   "attachments": {},
   "cell_type": "markdown",
   "metadata": {},
   "source": [
    "Q2. What is DDL? Explain why CREATE, DROP, ALTER, and TRUNCATE are used with an example.\n",
    "\n",
    "DDL (Data Defination Language) - In DBMS Architecture where not scrict seperation of level is maintained then DDL is used to define both Conceptual and Internal Schema.\n",
    "\n",
    "* CREATE - CREATE statement is used to create Database or a Table.\n",
    "* DROP - To delete a column or constraint for the table we use DROP Statement .\n",
    "* ALTER - When to need to change the datatype, constraints, column name we use ALTER Statement.\n",
    "* TRUNCATE - To delete all the record from the table but keep the Structure we use TRUNCATE Statemnt.\n"
   ]
  },
  {
   "attachments": {},
   "cell_type": "markdown",
   "metadata": {},
   "source": [
    "Q3. What is DML? Explain INSERT, UPDATE, and DELETE with an example.\n",
    "\n",
    "DML (Data Manipulation Language) - To Edit the Table which includes Insertion, Modifying, Deletion of data from the database. These languages mainly used to manipulate the database.\n",
    "* INSERT : When we need to insert some data row-wise we use INSERT statement.\n",
    ">                           insert into table_name values(101,'Gaurabh','Data Science',5000)\n",
    "* UPDATE : When we need to modify or change the inserted data of the database we use UPDATE Statement.\n",
    ">                               update table_name set price = 3500 where roll = 101  \n",
    "* DELETE : Delete Statement is used to Permanently erase the records from the table.\n",
    ">                                   delete from table_name where roll = 101\n"
   ]
  },
  {
   "attachments": {},
   "cell_type": "markdown",
   "metadata": {},
   "source": [
    "Q4. What is DQL? Explain SELECT with an example.\n",
    "\n",
    "DQL (Data Query Language) - It is a sublanguage form reading, quering the data form the database. Eg: SELECT\n",
    "\n",
    "* SELECT - When we required to select a part or the whole data from the database under a condition we use SELECT Statement.\n",
    ">                                               select * from players;\n",
    "The above query will print all the data from the player database."
   ]
  },
  {
   "attachments": {},
   "cell_type": "markdown",
   "metadata": {},
   "source": [
    "Q5. Explain Primary Key and Foreign Key.\n",
    "\n",
    "* Primary Key - A set of Attribute which can uniquely identify any row or tuple. The properties it holds are:\n",
    "1. It should be `UNIQUE`.\n",
    "2. It should'nt be `NOT NULL`.\n",
    "\n",
    "* Foreign Key - It is a set of attribute that are allowed in a Present table that match to Primary key of the same or another table."
   ]
  },
  {
   "attachments": {},
   "cell_type": "markdown",
   "metadata": {},
   "source": [
    "Q6. Write a python code to connect MySQL to python. Explain the cursor() and execute() method."
   ]
  },
  {
   "cell_type": "code",
   "execution_count": null,
   "metadata": {},
   "outputs": [],
   "source": [
    "import mysql.connector\n",
    "mydb = mysql.connector.connect(\n",
    "    host=\"localhost\",\n",
    "    user=\"abc\",\n",
    "    password=\"password\"\n",
    ")\n",
    "print(mydb)\n",
    "mycursor = mydb.cursor()\n"
   ]
  },
  {
   "attachments": {},
   "cell_type": "markdown",
   "metadata": {},
   "source": [
    "cursor(): - It like a pointer which represent objects that can execute SQL Statement.\n",
    "\n",
    "execute(): - It takes queries as its argument and executes it and returns the output."
   ]
  },
  {
   "attachments": {},
   "cell_type": "markdown",
   "metadata": {},
   "source": [
    "Q7. Give the order of execution of SQL clauses in an SQL query.\n",
    "\n",
    "1. FROM/JOIN - These clauses are executed to determine the data\n",
    "2. WHERE - It filters the data according to the condition\n",
    "3. GROUP BY - It groups the data based on the value in one or more columns.\n",
    "4. HAVING - It is always executed after group by statement which removes the data that does'nt satisfies the condition.\n",
    "5. SELECT - To choose all the desired column and rows which satisfies the condition.\n",
    "6. ORDER BY - It is executed to sort the value either is ascending or descending order.\n",
    "7. LIMIT/OFFSET - In order to skip a specific number of rows."
   ]
  }
 ],
 "metadata": {
  "kernelspec": {
   "display_name": "Python 3",
   "language": "python",
   "name": "python3"
  },
  "language_info": {
   "codemirror_mode": {
    "name": "ipython",
    "version": 3
   },
   "file_extension": ".py",
   "mimetype": "text/x-python",
   "name": "python",
   "nbconvert_exporter": "python",
   "pygments_lexer": "ipython3",
   "version": "3.11.2"
  },
  "orig_nbformat": 4,
  "vscode": {
   "interpreter": {
    "hash": "bf2765f521931e2f19f12976575e4735ff3b02b38699a1c8a104e77ac4d978bc"
   }
  }
 },
 "nbformat": 4,
 "nbformat_minor": 2
}
