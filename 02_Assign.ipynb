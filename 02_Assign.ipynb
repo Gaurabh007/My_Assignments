{
 "cells": [
  {
   "cell_type": "markdown",
   "id": "082963ba-f10b-41ca-817b-77ac3548383c",
   "metadata": {},
   "source": [
    "## 1.) Characteristics of Tuples:\n",
    "    i) Tuples are Ordered Data Structure in Python.\n",
    "    ii) Tuples are Indexed.\n",
    "    iii) The data is tuples are inclosed within a parentheses `()`.\n",
    "    iv) Tuples are immutable objects in Python."
   ]
  },
  {
   "cell_type": "markdown",
   "id": "e2002c5a-c513-42e3-84d3-9e48ea8ccec1",
   "metadata": {},
   "source": [
    "## 2.) Tuples support only two Function:\n",
    "> * .count(): It counts the occurrence of a particular value\n",
    "> * .index(): It returns the first index of a particular value. If the value is not found it raise an \n",
    "\n",
    "Examples of the methods are:\n"
   ]
  },
  {
   "cell_type": "code",
   "execution_count": 2,
   "id": "5428278d-00b7-47d2-9688-526005b05de4",
   "metadata": {},
   "outputs": [
    {
     "name": "stdout",
     "output_type": "stream",
     "text": [
      "Occurrence of 5 in the tuple is:  2\n"
     ]
    }
   ],
   "source": [
    "t=(1,5,9,\"Data\",\"Science\",9,5,1)\n",
    "print(f\"Occurrence of 5 in the tuple is: \",t.count(5))"
   ]
  },
  {
   "cell_type": "code",
   "execution_count": 6,
   "id": "0f08a75e-28a9-4856-a75e-f8865929916e",
   "metadata": {},
   "outputs": [
    {
     "name": "stdout",
     "output_type": "stream",
     "text": [
      "Index 'Data' is: 3\n"
     ]
    }
   ],
   "source": [
    "print(f\"Index 'Data' is:\",t.index(\"Data\"))"
   ]
  },
  {
   "cell_type": "markdown",
   "id": "290be6c1-6379-4af5-a31a-d30c5827fca0",
   "metadata": {},
   "source": [
    "### As we know that Tuples are immutable object in Python so any other function like .append(), .pop() is not allowed as tuples once defined cannot be changed."
   ]
  },
  {
   "cell_type": "markdown",
   "id": "ac9405ff-e29e-4514-bfd0-fb418bd40865",
   "metadata": {},
   "source": [
    "## 3.) Sets in Python is a datatype that does not allow duplicate elements in it.\n"
   ]
  },
  {
   "cell_type": "code",
   "execution_count": 2,
   "id": "e05506fd-caaf-4f6a-b1ff-517ea95de5a0",
   "metadata": {},
   "outputs": [
    {
     "data": {
      "text/plain": [
       "{1, 2, 3, 4}"
      ]
     },
     "execution_count": 2,
     "metadata": {},
     "output_type": "execute_result"
    }
   ],
   "source": [
    "List = [1, 1, 1, 2, 1, 3, 1, 4, 2, 1, 2, 2, 2, 3, 2, 4, 3, 1, 3, 2, 3, 3, 3, 4, 4, 1, 4, 2, 4, 3, 4, 4]\n",
    "# If we convert the list to a set then the duplicates will be removed as we know DUPLICATES in sets are not Allowed.\n",
    "set(List)"
   ]
  },
  {
   "cell_type": "markdown",
   "id": "6afc0f0b-b84e-45ba-93bf-09f2e6b10d7d",
   "metadata": {},
   "source": [
    "## 4.) Difference between union() and update() method in Sets\n",
    "### .union(): It returns a set with union of the two sets\n",
    "### .update(): It updates the elements of that set only with the other. "
   ]
  },
  {
   "cell_type": "code",
   "execution_count": 8,
   "id": "442ce4e3-90fd-4fc0-82f6-7642b8f61ee9",
   "metadata": {},
   "outputs": [
    {
     "data": {
      "text/plain": [
       "{1, 2, 3, 4, 5, 11, 22, 33, 44, 55}"
      ]
     },
     "execution_count": 8,
     "metadata": {},
     "output_type": "execute_result"
    }
   ],
   "source": [
    "# union()\n",
    "s1 = {1,2,3,4,5}\n",
    "s2 = {11,22,33,44,55}\n",
    "\n",
    "s3 = s1.union(s2)       #it creates a new set which contains the union of both set\n",
    "s3\n"
   ]
  },
  {
   "cell_type": "code",
   "execution_count": 9,
   "id": "b95198e6-6d5e-4648-b9bc-bb58031c20eb",
   "metadata": {},
   "outputs": [
    {
     "name": "stdout",
     "output_type": "stream",
     "text": [
      "{1, 2, 3, 4, 5, 33, 11, 44, 22, 55}\n"
     ]
    }
   ],
   "source": [
    "# update()\n",
    "s1.update(s2)        #it updates the s1 set to union of both\n",
    "print(s1)\n"
   ]
  },
  {
   "cell_type": "markdown",
   "id": "e9e4fe93-74c6-40cf-9d54-daa66b1c4d5d",
   "metadata": {},
   "source": [
    "## 5.) Dictionary: \n",
    "Dictionaries are most useful Data Structure in Python\n",
    "* It is a pair of Key-value Pair.\n",
    "* Based on Key it has some value.\n",
    "* Dictionary are ordered."
   ]
  },
  {
   "cell_type": "code",
   "execution_count": 1,
   "id": "9ca216ec-c19c-412b-be95-fae3496bf0ab",
   "metadata": {},
   "outputs": [
    {
     "name": "stdout",
     "output_type": "stream",
     "text": [
      "{'Key': 'Value', 'One': 1, 'Two': 2, 'Three': 3, 'Four': 4}\n"
     ]
    }
   ],
   "source": [
    "D={'Key' : 'Value',\n",
    "   'One' : 1,\n",
    "   'Two' : 2,\n",
    "   'Three' : 3,\n",
    "   'Four' : 4\n",
    "  }\n",
    "\n",
    "print(D)"
   ]
  },
  {
   "cell_type": "markdown",
   "id": "b455d0db-ded0-4e02-a774-2fbcae8ac22b",
   "metadata": {},
   "source": [
    "### 6.) Nested Dictionary\n"
   ]
  },
  {
   "cell_type": "code",
   "execution_count": 3,
   "id": "085f5c67-8b39-4161-a58f-be696b43f3d0",
   "metadata": {},
   "outputs": [
    {
     "name": "stdout",
     "output_type": "stream",
     "text": [
      "{'Class 1': {1: 'Std1', 2: 'Std2', 3: 'Std3'}}\n"
     ]
    }
   ],
   "source": [
    "d8 = {'Class 1': {1: \"Std1\", 2: \"Std2\", 3: \"Std3\"}}        #example of nested Dictionary\n",
    "print(d8)"
   ]
  },
  {
   "cell_type": "markdown",
   "id": "fdbb7040-50b5-49a6-9090-56afc474cd45",
   "metadata": {},
   "source": [
    "### 7.) setdefault() method:\n",
    "* It returns the value of a key\n",
    "* If a key is not present in dictionary then it creates a new record with default value \n"
   ]
  },
  {
   "cell_type": "code",
   "execution_count": 6,
   "id": "6a45475a-865b-4548-a9be-1aa0e58c591a",
   "metadata": {},
   "outputs": [],
   "source": [
    "dict1 = {'language' : 'Python', 'course': 'Data Science Masters'}\n"
   ]
  },
  {
   "cell_type": "code",
   "execution_count": 7,
   "id": "ad481995-3b67-42b2-b710-023e5beb8923",
   "metadata": {},
   "outputs": [
    {
     "data": {
      "text/plain": [
       "['Python', 'Machine Learning', 'Deep Learning']"
      ]
     },
     "execution_count": 7,
     "metadata": {},
     "output_type": "execute_result"
    }
   ],
   "source": [
    "dict1.setdefault('topics',['Python','Machine Learning','Deep Learning'])\n"
   ]
  },
  {
   "cell_type": "code",
   "execution_count": 8,
   "id": "9231718e-e54c-4a5e-add4-3c2ad3be95a2",
   "metadata": {},
   "outputs": [
    {
     "data": {
      "text/plain": [
       "{'language': 'Python',\n",
       " 'course': 'Data Science Masters',\n",
       " 'topics': ['Python', 'Machine Learning', 'Deep Learning']}"
      ]
     },
     "execution_count": 8,
     "metadata": {},
     "output_type": "execute_result"
    }
   ],
   "source": [
    "dict1"
   ]
  },
  {
   "cell_type": "markdown",
   "id": "9f7f8797-e269-4985-962b-4a2f9745d124",
   "metadata": {},
   "source": [
    "### 8.) View objects in Dictionaries:"
   ]
  },
  {
   "cell_type": "code",
   "execution_count": null,
   "id": "5e409e01-a60e-4e51-b662-fb8812dda8f8",
   "metadata": {},
   "outputs": [],
   "source": [
    "dict1 = {'Sport': 'Cricket' , 'Teams': ['India', 'Australia', 'England', 'South Africa', 'Sri Lanka', 'New Zealand']}"
   ]
  },
  {
   "cell_type": "code",
   "execution_count": 9,
   "id": "cfed12bc-91aa-4950-8e40-976048c41e83",
   "metadata": {},
   "outputs": [
    {
     "name": "stdout",
     "output_type": "stream",
     "text": [
      "language\n",
      "course\n",
      "topics\n"
     ]
    }
   ],
   "source": [
    "k = dict1.keys()\n",
    "for i in k:\n",
    "    print(i)            #it would print all the keys from the dictionaries"
   ]
  },
  {
   "cell_type": "code",
   "execution_count": 12,
   "id": "7ccac57f-bf35-4b1f-b668-8e19ecf50b6e",
   "metadata": {},
   "outputs": [
    {
     "name": "stdout",
     "output_type": "stream",
     "text": [
      "Python\n",
      "Data Science Masters\n",
      "['Python', 'Machine Learning', 'Deep Learning']\n"
     ]
    }
   ],
   "source": [
    "v = dict1.values()\n",
    "for i in v:\n",
    "    print(i)            #Printing the values"
   ]
  },
  {
   "cell_type": "code",
   "execution_count": 14,
   "id": "722927ac-35ac-494b-930f-6315b9e04670",
   "metadata": {},
   "outputs": [
    {
     "name": "stdout",
     "output_type": "stream",
     "text": [
      "('language', 'Python')\n",
      "('course', 'Data Science Masters')\n",
      "('topics', ['Python', 'Machine Learning', 'Deep Learning'])\n"
     ]
    }
   ],
   "source": [
    "it = dict1.items()\n",
    "for i in it:\n",
    "    print(i)                    #printing the whole dictionaries"
   ]
  },
  {
   "cell_type": "code",
   "execution_count": null,
   "id": "97925a05-b1a5-4f30-a0fc-6ffe218e5cdd",
   "metadata": {},
   "outputs": [],
   "source": []
  }
 ],
 "metadata": {
  "kernelspec": {
   "display_name": "Python 3 (ipykernel)",
   "language": "python",
   "name": "python3"
  },
  "language_info": {
   "codemirror_mode": {
    "name": "ipython",
    "version": 3
   },
   "file_extension": ".py",
   "mimetype": "text/x-python",
   "name": "python",
   "nbconvert_exporter": "python",
   "pygments_lexer": "ipython3",
   "version": "3.10.8"
  }
 },
 "nbformat": 4,
 "nbformat_minor": 5
}
